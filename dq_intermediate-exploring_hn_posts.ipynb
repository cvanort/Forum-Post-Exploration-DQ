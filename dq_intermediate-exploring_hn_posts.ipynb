{
 "cells": [
  {
   "cell_type": "markdown",
   "id": "19fa77ad",
   "metadata": {},
   "source": [
    "# Exploring Hacker News Posts\n",
    "\n",
    "[Hacker News](https://news.ycombinator.com/) is a popular forum focused on technology. We want to know which posts generate the most comments. Users can \"Ask HN\" questions or \"Show HN\" interesting things. Which type of post generates more comments? Does posting at a certain time generate more comments?\n",
    "\n",
    "To perform this analysis, we looked at Hacker News posts between September 26, 2015, and September 26, 2016. You can find the information about and a download of the data [here](https://www.kaggle.com/hacker-news/hacker-news-posts)."
   ]
  },
  {
   "cell_type": "markdown",
   "id": "4548ec90",
   "metadata": {},
   "source": [
    "## -+-+-+-+-+-Using pandas-+-+-+-+-+-"
   ]
  },
  {
   "cell_type": "code",
   "execution_count": 1,
   "id": "7ca945e2",
   "metadata": {},
   "outputs": [],
   "source": [
    "# import packages and disable certain warnings\n",
    "import pandas as pd\n",
    "from datetime import datetime as dt\n",
    "import matplotlib.pyplot as plt\n",
    "\n",
    "pd.options.mode.chained_assignment = None  # default='warn'"
   ]
  },
  {
   "cell_type": "code",
   "execution_count": 2,
   "id": "b929fb0d",
   "metadata": {
    "scrolled": true
   },
   "outputs": [
    {
     "name": "stdout",
     "output_type": "stream",
     "text": [
      "<class 'pandas.core.frame.DataFrame'>\n",
      "RangeIndex: 293119 entries, 0 to 293118\n",
      "Data columns (total 7 columns):\n",
      " #   Column        Non-Null Count   Dtype \n",
      "---  ------        --------------   ----- \n",
      " 0   id            293119 non-null  int64 \n",
      " 1   title         293119 non-null  object\n",
      " 2   url           279256 non-null  object\n",
      " 3   num_points    293119 non-null  int64 \n",
      " 4   num_comments  293119 non-null  int64 \n",
      " 5   author        293119 non-null  object\n",
      " 6   created_at    293119 non-null  object\n",
      "dtypes: int64(3), object(4)\n",
      "memory usage: 15.7+ MB\n",
      "None\n",
      "         id                                              title  \\\n",
      "0  12579008  You have two days to comment if you want stem ...   \n",
      "1  12579005                         SQLAR  the SQLite Archiver   \n",
      "2  12578997  What if we just printed a flatscreen televisio...   \n",
      "3  12578989                                  algorithmic music   \n",
      "4  12578979  How the Data Vault Enables the Next-Gen Data W...   \n",
      "\n",
      "                                                 url  num_points  \\\n",
      "0  http://www.regulations.gov/document?D=FDA-2015...           1   \n",
      "1   https://www.sqlite.org/sqlar/doc/trunk/README.md           1   \n",
      "2  https://medium.com/vanmoof/our-secrets-out-f21...           1   \n",
      "3  http://cacm.acm.org/magazines/2011/7/109891-al...           1   \n",
      "4  https://www.talend.com/blog/2016/05/12/talend-...           1   \n",
      "\n",
      "   num_comments        author      created_at  \n",
      "0             0       altstar  9/26/2016 3:26  \n",
      "1             0      blacksqr  9/26/2016 3:24  \n",
      "2             0  pavel_lishin  9/26/2016 3:19  \n",
      "3             0  poindontcare  9/26/2016 3:16  \n",
      "4             0   markgainor1  9/26/2016 3:14  \n"
     ]
    }
   ],
   "source": [
    "# read in dataset and explore \n",
    "hn_df = pd.read_csv('HN_posts_year_to_Sep_26_2016.csv')\n",
    "\n",
    "print(hn_df.info())\n",
    "print(hn_df.head())"
   ]
  },
  {
   "cell_type": "markdown",
   "id": "9eb4f414",
   "metadata": {},
   "source": [
    "## Prep the dataset for plotting\n",
    "\n",
    "* Add \"Ask HN\"/\"Show HN\" label\n",
    "* Add creation hour\n",
    "* Get average comments per label per creation hour"
   ]
  },
  {
   "cell_type": "code",
   "execution_count": 3,
   "id": "5f2ff093",
   "metadata": {},
   "outputs": [
    {
     "name": "stdout",
     "output_type": "stream",
     "text": [
      "Show HN    10150\n",
      "Ask HN      9122\n",
      "Name: Ask or Show, dtype: int64\n"
     ]
    }
   ],
   "source": [
    "# add ask or show labels to indicated the type of post\n",
    "\n",
    "# why doesn't this work? come back to it\n",
    "# hn_df['Ask or Show'] = None\n",
    "# hn_df[hn_df['title'].str.startswith('Ask HN')]['Ask or Show'] = 'Ask HN'\n",
    "# hn_df[hn_df['title'].str.startswith('Show HN')]['Ask or Show'] = 'Show HN'\n",
    "\n",
    "len1 = len(hn_df)\n",
    "\n",
    "ask_df = hn_df[hn_df['title'].str.startswith('Ask HN')]\n",
    "ask_df['Ask or Show'] = 'Ask HN'\n",
    "\n",
    "show_df = hn_df[hn_df['title'].str.startswith('Show HN')]\n",
    "show_df['Ask or Show'] = 'Show HN'\n",
    "\n",
    "other_df = hn_df[(~hn_df.index.isin(ask_df.index)) & (~hn_df.index.isin(show_df.index))]\n",
    "\n",
    "hn_df = pd.concat([ask_df, show_df, other_df])\n",
    "\n",
    "if len(hn_df) != len1:\n",
    "    print('ERROR: Adding ask/show labels changed the df length')\n",
    "    1/0\n",
    "\n",
    "print(hn_df['Ask or Show'].value_counts())"
   ]
  },
  {
   "cell_type": "code",
   "execution_count": 4,
   "id": "8cf2c684",
   "metadata": {
    "scrolled": true
   },
   "outputs": [],
   "source": [
    "# add the creation hour\n",
    "\n",
    "hn_df['Creation Hour'] = hn_df['created_at'].apply(lambda x: int(dt.strftime(dt.strptime(x, '%m/%d/%Y %H:%M'), '%H')))\n"
   ]
  },
  {
   "cell_type": "code",
   "execution_count": 5,
   "id": "bb7fc912",
   "metadata": {},
   "outputs": [
    {
     "name": "stdout",
     "output_type": "stream",
     "text": [
      "   Ask or Show  Creation Hour  num_comments\n",
      "15      Ask HN             15     28.676471\n",
      "13      Ask HN             13     16.350679\n",
      "12      Ask HN             12     12.380117\n",
      "2       Ask HN              2     11.137546\n",
      "10      Ask HN             10     10.684397\n",
      "4       Ask HN              4      9.743802\n",
      "14      Ask HN             14      9.707031\n",
      "17      Ask HN             17      9.449744\n",
      "8       Ask HN              8      9.190661\n",
      "11      Ask HN             11      9.012903\n",
      "22      Ask HN             22      8.819372\n",
      "5       Ask HN              5      8.794258\n",
      "20      Ask HN             20      8.749020\n",
      "21      Ask HN             21      8.720930\n",
      "3       Ask HN              3      7.974074\n",
      "18      Ask HN             18      7.954248\n",
      "16      Ask HN             16      7.717993\n",
      "0       Ask HN              0      7.575251\n",
      "1       Ask HN              1      7.407801\n",
      "19      Ask HN             19      7.176044\n",
      "7       Ask HN              7      7.040000\n",
      "36     Show HN             12      6.994186\n",
      "6       Ask HN              6      6.782051\n",
      "23      Ask HN             23      6.696793\n",
      "31     Show HN              7      6.693617\n",
      "9       Ask HN              9      6.653153\n",
      "35     Show HN             11      6.002488\n",
      "32     Show HN              8      5.619048\n",
      "38     Show HN             14      5.515805\n",
      "37     Show HN             13      5.432787\n",
      "26     Show HN              2      5.148325\n",
      "28     Show HN              4      5.041237\n",
      "43     Show HN             19      5.019784\n",
      "42     Show HN             18      4.942073\n",
      "30     Show HN              6      4.708333\n",
      "40     Show HN             16      4.705368\n",
      "33     Show HN              9      4.672185\n",
      "24     Show HN              0      4.648551\n",
      "39     Show HN             15      4.583933\n",
      "47     Show HN             23      4.537736\n",
      "27     Show HN              3      4.533981\n",
      "41     Show HN             17      4.252964\n",
      "44     Show HN             20      4.158095\n",
      "45     Show HN             21      4.090698\n",
      "25     Show HN              1      4.072874\n",
      "46     Show HN             22      3.846154\n",
      "34     Show HN             10      3.801858\n",
      "29     Show HN              5      3.456140\n"
     ]
    }
   ],
   "source": [
    "# create summary table with average number of comments per hour per label\n",
    "\n",
    "hn_sum_df = hn_df[['Ask or Show', 'Creation Hour', 'num_comments']].groupby(['Ask or Show', 'Creation Hour']).mean().reset_index()\n",
    "print(hn_sum_df.sort_values(by='num_comments', ascending=False))\n"
   ]
  },
  {
   "cell_type": "code",
   "execution_count": 6,
   "id": "9ebf46e3",
   "metadata": {
    "scrolled": true
   },
   "outputs": [
    {
     "data": {
      "image/png": "[encoded data removed]",
      "text/plain": [
       "<Figure size 1296x360 with 2 Axes>"
      ]
     },
     "metadata": {
      "needs_background": "light"
     },
     "output_type": "display_data"
    }
   ],
   "source": [
    "# plot the average number of comments by label by hour\n",
    "\n",
    "# split the df into ask and show\n",
    "ask_df = hn_sum_df[hn_sum_df['Ask or Show'] == 'Ask HN']\n",
    "show_df = hn_sum_df[hn_sum_df['Ask or Show'] == 'Show HN']\n",
    "\n",
    "# plot\n",
    "fig, (ax1, ax2) = plt.subplots(1, 2)\n",
    "fig.set_size_inches(18,5)\n",
    "\n",
    "# make the charts the same scale\n",
    "ymax = 30\n",
    "\n",
    "ax1.title.set_text('Ask HN')\n",
    "ax1.set_ylim([0, ymax])\n",
    "ax1.bar(ask_df['Creation Hour'], ask_df['num_comments'])\n",
    "\n",
    "ax2.title.set_text('Show HN')\n",
    "ax2.set_ylim([0, ymax])\n",
    "ax2.bar(show_df['Creation Hour'], show_df['num_comments'])\n",
    "\n",
    "plt.show()\n"
   ]
  },
  {
   "cell_type": "markdown",
   "id": "2e1da0c7",
   "metadata": {},
   "source": [
    "## Conclusions\n",
    "\n",
    "\"Ask HN\" posts created between 15:00 and 16:00 ET receive far more comments on average than either \"Ask HN\" or \"Show HN\" posts created during any other hour. If we want to garner the most comments possible, we should create an \"Ask HN\" post between 14:00 and 15:00 CT."
   ]
  },
  {
   "cell_type": "markdown",
   "id": "751a8eba",
   "metadata": {},
   "source": [
    "<br/>\n",
    "<br/>\n",
    "<br/>\n",
    "<br/>\n",
    "<br/>\n",
    "<br/>\n",
    "<br/>\n",
    "\n",
    "## -+-+-+-+-+-Using the Dataquest instructions-+-+-+-+-+-"
   ]
  },
  {
   "cell_type": "code",
   "execution_count": 7,
   "id": "ada28899",
   "metadata": {},
   "outputs": [],
   "source": [
    "# import packages and initialize variables\n",
    "\n",
    "from csv import reader\n",
    "import datetime as dt\n",
    "\n",
    "headers_already_removed = False"
   ]
  },
  {
   "cell_type": "code",
   "execution_count": 8,
   "id": "07c69751",
   "metadata": {},
   "outputs": [
    {
     "name": "stdout",
     "output_type": "stream",
     "text": [
      "[['id', 'title', 'url', 'num_points', 'num_comments', 'author', 'created_at'], ['12579008', 'You have two days to comment if you want stem cells to be classified as your own', 'http://www.regulations.gov/document?D=FDA-2015-D-3719-0018', '1', '0', 'altstar', '9/26/2016 3:26'], ['12579005', 'SQLAR  the SQLite Archiver', 'https://www.sqlite.org/sqlar/doc/trunk/README.md', '1', '0', 'blacksqr', '9/26/2016 3:24'], ['12578997', 'What if we just printed a flatscreen television on the side of our boxes?', 'https://medium.com/vanmoof/our-secrets-out-f21c1f03fdc8#.ietxmez43', '1', '0', 'pavel_lishin', '9/26/2016 3:19'], ['12578989', 'algorithmic music', 'http://cacm.acm.org/magazines/2011/7/109891-algorithmic-composition/fulltext', '1', '0', 'poindontcare', '9/26/2016 3:16']]\n",
      "['id', 'title', 'url', 'num_points', 'num_comments', 'author', 'created_at']\n",
      "[['12579008', 'You have two days to comment if you want stem cells to be classified as your own', 'http://www.regulations.gov/document?D=FDA-2015-D-3719-0018', '1', '0', 'altstar', '9/26/2016 3:26'], ['12579005', 'SQLAR  the SQLite Archiver', 'https://www.sqlite.org/sqlar/doc/trunk/README.md', '1', '0', 'blacksqr', '9/26/2016 3:24'], ['12578997', 'What if we just printed a flatscreen television on the side of our boxes?', 'https://medium.com/vanmoof/our-secrets-out-f21c1f03fdc8#.ietxmez43', '1', '0', 'pavel_lishin', '9/26/2016 3:19'], ['12578989', 'algorithmic music', 'http://cacm.acm.org/magazines/2011/7/109891-algorithmic-composition/fulltext', '1', '0', 'poindontcare', '9/26/2016 3:16'], ['12578979', 'How the Data Vault Enables the Next-Gen Data Warehouse and Data Lake', 'https://www.talend.com/blog/2016/05/12/talend-and-Â\\x93the-data-vaultÂ\\x94', '1', '0', 'markgainor1', '9/26/2016 3:14']]\n"
     ]
    }
   ],
   "source": [
    "# read in the datasets and separate headers\n",
    "\n",
    "def read_file_as_lists(csv_file):\n",
    "    opened_file = open(csv_file)\n",
    "    read_file = reader(opened_file)\n",
    "    data = list(read_file)\n",
    "    \n",
    "    return data\n",
    "\n",
    "hn = read_file_as_lists('HN_posts_year_to_Sep_26_2016.csv')\n",
    "print(hn[:5])\n",
    "\n",
    "if not headers_already_removed:\n",
    "    headers = hn[0]\n",
    "    hn = hn[1:]\n",
    "    headers_already_removed = True\n",
    "\n",
    "print(headers)\n",
    "print(hn[:5])"
   ]
  },
  {
   "cell_type": "markdown",
   "id": "2973079b",
   "metadata": {},
   "source": [
    "## Analysis\n",
    "\n",
    "On average, \"Ask HN\" posts receive 10.4 comments, while \"Show HN\" posts receive only 4.9 comments. Therefore, we will only analyze the timing of the \"Ask HN\" posts.\n",
    "\n",
    "\"Ask HN\" posts created between 15:00 and 16:00 ET receive the most comments on average: 28.7. Posts created between 13:00 and 14:00 ET receive the second most on average: only 16.3.\n"
   ]
  },
  {
   "cell_type": "code",
   "execution_count": 9,
   "id": "375af943",
   "metadata": {},
   "outputs": [
    {
     "name": "stdout",
     "output_type": "stream",
     "text": [
      "# Ask Posts\n",
      "9139\n",
      "\n",
      "# Show Posts\n",
      "10158\n",
      "\n",
      "# Other Posts\n",
      "273822\n"
     ]
    }
   ],
   "source": [
    "# separate posts into ask or show\n",
    "\n",
    "ask_posts = []\n",
    "show_posts = []\n",
    "other_posts = []\n",
    "\n",
    "for row in hn:\n",
    "    title = row[1]\n",
    "    if title.lower().startswith('ask hn'):\n",
    "        ask_posts.append(row)\n",
    "    elif title.lower().startswith('show hn'):\n",
    "        show_posts.append(row)\n",
    "    else:\n",
    "        other_posts.append(row)\n",
    "\n",
    "print('# Ask Posts')\n",
    "print(len(ask_posts))\n",
    "print('\\n# Show Posts')\n",
    "print(len(show_posts))\n",
    "print('\\n# Other Posts')\n",
    "print(len(other_posts))"
   ]
  },
  {
   "cell_type": "code",
   "execution_count": 10,
   "id": "d5e77808",
   "metadata": {
    "scrolled": true
   },
   "outputs": [
    {
     "name": "stdout",
     "output_type": "stream",
     "text": [
      "Avg # Ask Comments\n",
      "10.393478498741656\n",
      "\n",
      "Avg # Show Comments\n",
      "4.886099625910612\n"
     ]
    }
   ],
   "source": [
    "# get the average number of comments for each type of post\n",
    "\n",
    "def get_avg_num_comments(post_list):\n",
    "    total_comments = 0\n",
    "    cnt_posts = 0\n",
    "    \n",
    "    # sum the number of comments on each post (4th index)\n",
    "    for post in post_list:\n",
    "        total_comments += int(post[4])\n",
    "        cnt_posts += 1\n",
    "        \n",
    "    avg_num_comments = total_comments / cnt_posts\n",
    "    \n",
    "    return avg_num_comments\n",
    "\n",
    "avg_ask_comments = get_avg_num_comments(ask_posts)\n",
    "avg_show_comments = get_avg_num_comments(show_posts)\n",
    "\n",
    "print('Avg # Ask Comments')\n",
    "print(avg_ask_comments)\n",
    "print('\\nAvg # Show Comments')\n",
    "print(avg_show_comments)"
   ]
  },
  {
   "cell_type": "code",
   "execution_count": 11,
   "id": "95b160da",
   "metadata": {},
   "outputs": [
    {
     "name": "stdout",
     "output_type": "stream",
     "text": [
      "[['02', 11.137546468401487], ['01', 7.407801418439717], ['22', 8.804177545691905], ['21', 8.687258687258687], ['19', 7.163043478260869], ['17', 9.449744463373083], ['15', 28.676470588235293], ['14', 9.692007797270955], ['13', 16.31756756756757], ['11', 8.96474358974359], ['10', 10.684397163120567], ['09', 6.653153153153153], ['07', 7.013274336283186], ['03', 7.948339483394834], ['23', 6.696793002915452], ['20', 8.749019607843136], ['16', 7.713298791018998], ['08', 9.190661478599221], ['00', 7.5647840531561465], ['18', 7.94299674267101], ['12', 12.380116959064328], ['04', 9.7119341563786], ['06', 6.782051282051282], ['05', 8.794258373205741]]\n"
     ]
    }
   ],
   "source": [
    "# get the average comments per hour for ask posts\n",
    "\n",
    "result_list = []\n",
    "\n",
    "# get a list of the time the post was created (6th index) and the number of comments (4th index) for each post\n",
    "for post in ask_posts:\n",
    "    result_list.append([post[6], int(post[4])])\n",
    "    \n",
    "# get the hour of each post and add the number of posts and the number of comments per hours to their respective dictionaries\n",
    "counts_by_hour = {}\n",
    "comments_by_hour = {}\n",
    "for post in result_list:\n",
    "    create_hour = dt.datetime.strftime(dt.datetime.strptime(post[0], '%m/%d/%Y %H:%M'), '%H')\n",
    "    \n",
    "    if create_hour in counts_by_hour:\n",
    "        counts_by_hour[create_hour] += 1\n",
    "        comments_by_hour[create_hour] += post[1]\n",
    "    else:\n",
    "        counts_by_hour[create_hour] = 1\n",
    "        comments_by_hour[create_hour] = post[1]\n",
    "\n",
    "avg_by_hour = []\n",
    "for hour in comments_by_hour:\n",
    "    avg_by_hour.append([hour, comments_by_hour[hour] / counts_by_hour[hour]])\n",
    "    \n",
    "print(avg_by_hour)\n",
    "        "
   ]
  },
  {
   "cell_type": "code",
   "execution_count": 12,
   "id": "7579a156",
   "metadata": {},
   "outputs": [
    {
     "name": "stdout",
     "output_type": "stream",
     "text": [
      "Top 5 Hours for Ask Posts Comments\n",
      "15:00: 28.68 average comments per post\n",
      "13:00: 16.32 average comments per post\n",
      "12:00: 12.38 average comments per post\n",
      "02:00: 11.14 average comments per post\n",
      "10:00: 10.68 average comments per post\n"
     ]
    }
   ],
   "source": [
    "# sort the results by hour\n",
    "\n",
    "swap_avg_by_hour = []\n",
    "for itm in avg_by_hour:\n",
    "    swap_avg_by_hour.append([itm[1], itm[0]])\n",
    "    \n",
    "sorted_swap = sorted(swap_avg_by_hour, reverse=True)\n",
    "\n",
    "print('Top 5 Hours for Ask Posts Comments')\n",
    "for itm in sorted_swap[:5]:\n",
    "    print('{}: {:.2f} average comments per post'.format(dt.datetime.strftime(dt.datetime.strptime(itm[1], '%H'), '%H:%M'), itm[0]))\n",
    "    "
   ]
  },
  {
   "cell_type": "markdown",
   "id": "ddab1a87",
   "metadata": {},
   "source": [
    "## Conclusions\n",
    "\n",
    "\"Ask HN\" posts receive more than double the number of comments on average as \"Show HN\" posts, and \"Ask HN\" posts created between 15:00 and 16:00 ET receive 75% more comments than those created during any other hour. If we want to garner the most comments possible, we should create an \"Ask HN\" post between 14:00 and 15:00 CT."
   ]
  }
 ],
 "metadata": {
  "kernelspec": {
   "display_name": "Python [conda env:root] *",
   "language": "python",
   "name": "conda-root-py"
  },
  "language_info": {
   "codemirror_mode": {
    "name": "ipython",
    "version": 3
   },
   "file_extension": ".py",
   "mimetype": "text/x-python",
   "name": "python",
   "nbconvert_exporter": "python",
   "pygments_lexer": "ipython3",
   "version": "3.8.8"
  }
 },
 "nbformat": 4,
 "nbformat_minor": 5
}
